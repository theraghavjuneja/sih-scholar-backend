{
 "cells": [
  {
   "cell_type": "code",
   "execution_count": 1,
   "metadata": {},
   "outputs": [],
   "source": [
    "from langchain.docstore.document import Document\n",
    "from langchain.text_splitter import CharacterTextSplitter"
   ]
  },
  {
   "cell_type": "code",
   "execution_count": 9,
   "metadata": {},
   "outputs": [],
   "source": [
    "from langchain import PromptTemplate"
   ]
  },
  {
   "cell_type": "code",
   "execution_count": 2,
   "metadata": {},
   "outputs": [],
   "source": [
    "from langchain_google_genai import ChatGoogleGenerativeAI"
   ]
  },
  {
   "cell_type": "code",
   "execution_count": 12,
   "metadata": {},
   "outputs": [],
   "source": [
    "llm=ChatGoogleGenerativeAI(\n",
    "    model=\"gemini-1.5-flash\",\n",
    "    temperature=0.2\n",
    ")"
   ]
  },
  {
   "cell_type": "markdown",
   "metadata": {},
   "source": [
    "#### Convert content of url as a document object"
   ]
  },
  {
   "cell_type": "code",
   "execution_count": 3,
   "metadata": {},
   "outputs": [],
   "source": [
    "from PyPDF2 import PdfReader\n",
    "pdfreader=PdfReader('Data_Scientist_Resume_John_Doe.pdf')"
   ]
  },
  {
   "cell_type": "markdown",
   "metadata": {},
   "source": [
    "#### Useful only when iska size <less than token limit"
   ]
  },
  {
   "cell_type": "code",
   "execution_count": 4,
   "metadata": {},
   "outputs": [],
   "source": [
    "from typing_extensions import Concatenate\n",
    "text=''\n",
    "for i,page in enumerate(pdfreader.pages):\n",
    "    content=page.extract_text()\n",
    "    if content:\n",
    "        text+=content"
   ]
  },
  {
   "cell_type": "code",
   "execution_count": 5,
   "metadata": {},
   "outputs": [
    {
     "data": {
      "text/plain": [
       "'John Doe - Data Scientist\\nContact Information\\nEmail: johndoe@example.com | Phone: +123-456-7890 | Location: New York, NY\\nProfessional Summary\\nData Scientist with 4+ years of experience in leveraging data-driven approaches to solve complex\\nbusiness problems. Proficient in statistical analysis, predictive modeling, and machine learning.\\nStrong expertise in Python, SQL, and data visualization with a proven track record of deriving\\nactionable insights from large datasets.\\nSkills\\n- Programming: Python, R, SQL\\n- Machine Learning: Scikit-learn, TensorFlow, Keras\\n- Data Analysis: Pandas, NumPy, SciPy\\n- Data Visualization: Matplotlib, Seaborn, Tableau\\n- Big Data: Hadoop, Spark\\n- Cloud Platforms: AWS, Azure\\n- Version Control: Git\\nWork Experience\\nData Scientist | XYZ Tech Solutions, New York, NY | Jan 2021 - Present\\n- Developed and deployed machine learning models that increased prediction accuracy by 15%.\\n- Conducted exploratory data analysis on large datasets to identify trends and business insights.\\n- Automated ETL processes, reducing data processing time by 30%.\\n- Collaborated with cross-functional teams to integrate AI-driven solutions into existing platforms.\\nData Analyst | ABC Data Corp, Boston, MA | June 2018 - Dec 2020- Analyzed and visualized customer behavior data to drive marketing strategy, resulting in a 20%\\nincrease in ROI.\\n- Built predictive models for customer segmentation and retention.\\n- Streamlined data collection and processing, leading to a 25% improvement in reporting efficiency.\\nEducation\\nMaster of Science in Data Science | University of XYZ | 2016 - 2018\\nBachelor of Science in Computer Science | University of ABC | 2012 - 2016\\nCertifications\\n- Certified Data Scientist (CDS)\\n- AWS Certified Machine Learning - Specialty\\n- Tableau Desktop Specialist'"
      ]
     },
     "execution_count": 5,
     "metadata": {},
     "output_type": "execute_result"
    }
   ],
   "source": [
    "text"
   ]
  },
  {
   "cell_type": "code",
   "execution_count": 6,
   "metadata": {},
   "outputs": [],
   "source": [
    "# conver this text to document\n",
    "docs=[Document(page_content=text)]"
   ]
  },
  {
   "cell_type": "markdown",
   "metadata": {},
   "source": [
    "#### All the text is now pushed into a single document"
   ]
  },
  {
   "cell_type": "code",
   "execution_count": 7,
   "metadata": {},
   "outputs": [
    {
     "data": {
      "text/plain": [
       "True"
      ]
     },
     "execution_count": 7,
     "metadata": {},
     "output_type": "execute_result"
    }
   ],
   "source": [
    "from dotenv import load_dotenv\n",
    "load_dotenv()"
   ]
  },
  {
   "cell_type": "code",
   "execution_count": 8,
   "metadata": {},
   "outputs": [],
   "source": [
    "from langchain.chains.summarize import load_summarize_chain"
   ]
  },
  {
   "cell_type": "code",
   "execution_count": 11,
   "metadata": {},
   "outputs": [],
   "source": [
    "template='''\n",
    "Write a concise and short summary of the followin resume\n",
    "{text}\n",
    "'''\n",
    "prompt=PromptTemplate(\n",
    "    input_variables=[\"text\"],\n",
    "    template=template\n",
    ")"
   ]
  },
  {
   "cell_type": "code",
   "execution_count": 13,
   "metadata": {},
   "outputs": [],
   "source": [
    "chain=load_summarize_chain(\n",
    "    llm,\n",
    "    chain_type='stuff',\n",
    "    prompt=prompt,\n",
    "    verbose=True\n",
    ")"
   ]
  },
  {
   "cell_type": "code",
   "execution_count": 14,
   "metadata": {},
   "outputs": [
    {
     "name": "stderr",
     "output_type": "stream",
     "text": [
      "c:\\Users\\pooja\\AppData\\Local\\Programs\\Python\\Python311\\Lib\\site-packages\\langchain_core\\_api\\deprecation.py:139: LangChainDeprecationWarning: The method `Chain.run` was deprecated in langchain 0.1.0 and will be removed in 0.3.0. Use invoke instead.\n",
      "  warn_deprecated(\n"
     ]
    },
    {
     "name": "stdout",
     "output_type": "stream",
     "text": [
      "\n",
      "\n",
      "\u001b[1m> Entering new StuffDocumentsChain chain...\u001b[0m\n",
      "\n",
      "\n",
      "\u001b[1m> Entering new LLMChain chain...\u001b[0m\n",
      "Prompt after formatting:\n",
      "\u001b[32;1m\u001b[1;3m\n",
      "Write a concise and short summary of the followin resume\n",
      "John Doe - Data Scientist\n",
      "Contact Information\n",
      "Email: johndoe@example.com | Phone: +123-456-7890 | Location: New York, NY\n",
      "Professional Summary\n",
      "Data Scientist with 4+ years of experience in leveraging data-driven approaches to solve complex\n",
      "business problems. Proficient in statistical analysis, predictive modeling, and machine learning.\n",
      "Strong expertise in Python, SQL, and data visualization with a proven track record of deriving\n",
      "actionable insights from large datasets.\n",
      "Skills\n",
      "- Programming: Python, R, SQL\n",
      "- Machine Learning: Scikit-learn, TensorFlow, Keras\n",
      "- Data Analysis: Pandas, NumPy, SciPy\n",
      "- Data Visualization: Matplotlib, Seaborn, Tableau\n",
      "- Big Data: Hadoop, Spark\n",
      "- Cloud Platforms: AWS, Azure\n",
      "- Version Control: Git\n",
      "Work Experience\n",
      "Data Scientist | XYZ Tech Solutions, New York, NY | Jan 2021 - Present\n",
      "- Developed and deployed machine learning models that increased prediction accuracy by 15%.\n",
      "- Conducted exploratory data analysis on large datasets to identify trends and business insights.\n",
      "- Automated ETL processes, reducing data processing time by 30%.\n",
      "- Collaborated with cross-functional teams to integrate AI-driven solutions into existing platforms.\n",
      "Data Analyst | ABC Data Corp, Boston, MA | June 2018 - Dec 2020- Analyzed and visualized customer behavior data to drive marketing strategy, resulting in a 20%\n",
      "increase in ROI.\n",
      "- Built predictive models for customer segmentation and retention.\n",
      "- Streamlined data collection and processing, leading to a 25% improvement in reporting efficiency.\n",
      "Education\n",
      "Master of Science in Data Science | University of XYZ | 2016 - 2018\n",
      "Bachelor of Science in Computer Science | University of ABC | 2012 - 2016\n",
      "Certifications\n",
      "- Certified Data Scientist (CDS)\n",
      "- AWS Certified Machine Learning - Specialty\n",
      "- Tableau Desktop Specialist\n",
      "\u001b[0m\n",
      "\n",
      "\u001b[1m> Finished chain.\u001b[0m\n",
      "\n",
      "\u001b[1m> Finished chain.\u001b[0m\n"
     ]
    }
   ],
   "source": [
    "output_summary=chain.run(docs)"
   ]
  },
  {
   "cell_type": "code",
   "execution_count": 15,
   "metadata": {},
   "outputs": [
    {
     "data": {
      "text/plain": [
       "\"John Doe is a data scientist with 4+ years of experience in using data to solve business problems. He is proficient in Python, SQL, and data visualization, and has a strong track record of deriving actionable insights from large datasets. He has experience in machine learning, big data, and cloud platforms, and has successfully implemented AI-driven solutions in previous roles. His skills include data analysis, predictive modeling, and ETL automation. He holds a Master's degree in Data Science and is certified in data science and machine learning. \\n\""
      ]
     },
     "execution_count": 15,
     "metadata": {},
     "output_type": "execute_result"
    }
   ],
   "source": [
    "output_summary"
   ]
  },
  {
   "cell_type": "markdown",
   "metadata": {},
   "source": [
    "##### Map reduce technique"
   ]
  },
  {
   "cell_type": "code",
   "execution_count": 16,
   "metadata": {},
   "outputs": [],
   "source": [
    "from langchain.text_splitter import RecursiveCharacterTextSplitter"
   ]
  },
  {
   "cell_type": "code",
   "execution_count": 17,
   "metadata": {},
   "outputs": [
    {
     "data": {
      "text/plain": [
       "'John Doe - Data Scientist\\nContact Information\\nEmail: johndoe@example.com | Phone: +123-456-7890 | Location: New York, NY\\nProfessional Summary\\nData Scientist with 4+ years of experience in leveraging data-driven approaches to solve complex\\nbusiness problems. Proficient in statistical analysis, predictive modeling, and machine learning.\\nStrong expertise in Python, SQL, and data visualization with a proven track record of deriving\\nactionable insights from large datasets.\\nSkills\\n- Programming: Python, R, SQL\\n- Machine Learning: Scikit-learn, TensorFlow, Keras\\n- Data Analysis: Pandas, NumPy, SciPy\\n- Data Visualization: Matplotlib, Seaborn, Tableau\\n- Big Data: Hadoop, Spark\\n- Cloud Platforms: AWS, Azure\\n- Version Control: Git\\nWork Experience\\nData Scientist | XYZ Tech Solutions, New York, NY | Jan 2021 - Present\\n- Developed and deployed machine learning models that increased prediction accuracy by 15%.\\n- Conducted exploratory data analysis on large datasets to identify trends and business insights.\\n- Automated ETL processes, reducing data processing time by 30%.\\n- Collaborated with cross-functional teams to integrate AI-driven solutions into existing platforms.\\nData Analyst | ABC Data Corp, Boston, MA | June 2018 - Dec 2020- Analyzed and visualized customer behavior data to drive marketing strategy, resulting in a 20%\\nincrease in ROI.\\n- Built predictive models for customer segmentation and retention.\\n- Streamlined data collection and processing, leading to a 25% improvement in reporting efficiency.\\nEducation\\nMaster of Science in Data Science | University of XYZ | 2016 - 2018\\nBachelor of Science in Computer Science | University of ABC | 2012 - 2016\\nCertifications\\n- Certified Data Scientist (CDS)\\n- AWS Certified Machine Learning - Specialty\\n- Tableau Desktop Specialist'"
      ]
     },
     "execution_count": 17,
     "metadata": {},
     "output_type": "execute_result"
    }
   ],
   "source": [
    "text"
   ]
  },
  {
   "cell_type": "code",
   "execution_count": 18,
   "metadata": {},
   "outputs": [
    {
     "data": {
      "text/plain": [
       "419"
      ]
     },
     "execution_count": 18,
     "metadata": {},
     "output_type": "execute_result"
    }
   ],
   "source": [
    "llm.get_num_tokens(text)"
   ]
  },
  {
   "cell_type": "code",
   "execution_count": 19,
   "metadata": {},
   "outputs": [],
   "source": [
    "text_splitter=RecursiveCharacterTextSplitter(\n",
    "    chunk_size=1000,\n",
    "    chunk_overlap=20\n",
    ")\n",
    "chunks=text_splitter.create_documents([text])"
   ]
  },
  {
   "cell_type": "code",
   "execution_count": 20,
   "metadata": {},
   "outputs": [
    {
     "data": {
      "text/plain": [
       "[Document(page_content='John Doe - Data Scientist\\nContact Information\\nEmail: johndoe@example.com | Phone: +123-456-7890 | Location: New York, NY\\nProfessional Summary\\nData Scientist with 4+ years of experience in leveraging data-driven approaches to solve complex\\nbusiness problems. Proficient in statistical analysis, predictive modeling, and machine learning.\\nStrong expertise in Python, SQL, and data visualization with a proven track record of deriving\\nactionable insights from large datasets.\\nSkills\\n- Programming: Python, R, SQL\\n- Machine Learning: Scikit-learn, TensorFlow, Keras\\n- Data Analysis: Pandas, NumPy, SciPy\\n- Data Visualization: Matplotlib, Seaborn, Tableau\\n- Big Data: Hadoop, Spark\\n- Cloud Platforms: AWS, Azure\\n- Version Control: Git\\nWork Experience\\nData Scientist | XYZ Tech Solutions, New York, NY | Jan 2021 - Present\\n- Developed and deployed machine learning models that increased prediction accuracy by 15%.'),\n",
       " Document(page_content='- Conducted exploratory data analysis on large datasets to identify trends and business insights.\\n- Automated ETL processes, reducing data processing time by 30%.\\n- Collaborated with cross-functional teams to integrate AI-driven solutions into existing platforms.\\nData Analyst | ABC Data Corp, Boston, MA | June 2018 - Dec 2020- Analyzed and visualized customer behavior data to drive marketing strategy, resulting in a 20%\\nincrease in ROI.\\n- Built predictive models for customer segmentation and retention.\\n- Streamlined data collection and processing, leading to a 25% improvement in reporting efficiency.\\nEducation\\nMaster of Science in Data Science | University of XYZ | 2016 - 2018\\nBachelor of Science in Computer Science | University of ABC | 2012 - 2016\\nCertifications\\n- Certified Data Scientist (CDS)\\n- AWS Certified Machine Learning - Specialty\\n- Tableau Desktop Specialist')]"
      ]
     },
     "execution_count": 20,
     "metadata": {},
     "output_type": "execute_result"
    }
   ],
   "source": [
    "chunks"
   ]
  },
  {
   "cell_type": "code",
   "execution_count": 21,
   "metadata": {},
   "outputs": [
    {
     "data": {
      "text/plain": [
       "2"
      ]
     },
     "execution_count": 21,
     "metadata": {},
     "output_type": "execute_result"
    }
   ],
   "source": [
    "len(chunks)"
   ]
  },
  {
   "cell_type": "markdown",
   "metadata": {},
   "source": [
    "##### Two chunks were created here when chunk sze of 10k used\n"
   ]
  },
  {
   "cell_type": "code",
   "execution_count": 22,
   "metadata": {},
   "outputs": [
    {
     "name": "stdout",
     "output_type": "stream",
     "text": [
      "\n",
      "\n",
      "\u001b[1m> Entering new MapReduceDocumentsChain chain...\u001b[0m\n",
      "\n",
      "\n",
      "\u001b[1m> Entering new LLMChain chain...\u001b[0m\n",
      "Prompt after formatting:\n",
      "\u001b[32;1m\u001b[1;3mWrite a concise summary of the following:\n",
      "\n",
      "\n",
      "\"John Doe - Data Scientist\n",
      "Contact Information\n",
      "Email: johndoe@example.com | Phone: +123-456-7890 | Location: New York, NY\n",
      "Professional Summary\n",
      "Data Scientist with 4+ years of experience in leveraging data-driven approaches to solve complex\n",
      "business problems. Proficient in statistical analysis, predictive modeling, and machine learning.\n",
      "Strong expertise in Python, SQL, and data visualization with a proven track record of deriving\n",
      "actionable insights from large datasets.\n",
      "Skills\n",
      "- Programming: Python, R, SQL\n",
      "- Machine Learning: Scikit-learn, TensorFlow, Keras\n",
      "- Data Analysis: Pandas, NumPy, SciPy\n",
      "- Data Visualization: Matplotlib, Seaborn, Tableau\n",
      "- Big Data: Hadoop, Spark\n",
      "- Cloud Platforms: AWS, Azure\n",
      "- Version Control: Git\n",
      "Work Experience\n",
      "Data Scientist | XYZ Tech Solutions, New York, NY | Jan 2021 - Present\n",
      "- Developed and deployed machine learning models that increased prediction accuracy by 15%.\"\n",
      "\n",
      "\n",
      "CONCISE SUMMARY:\u001b[0m\n",
      "Prompt after formatting:\n",
      "\u001b[32;1m\u001b[1;3mWrite a concise summary of the following:\n",
      "\n",
      "\n",
      "\"- Conducted exploratory data analysis on large datasets to identify trends and business insights.\n",
      "- Automated ETL processes, reducing data processing time by 30%.\n",
      "- Collaborated with cross-functional teams to integrate AI-driven solutions into existing platforms.\n",
      "Data Analyst | ABC Data Corp, Boston, MA | June 2018 - Dec 2020- Analyzed and visualized customer behavior data to drive marketing strategy, resulting in a 20%\n",
      "increase in ROI.\n",
      "- Built predictive models for customer segmentation and retention.\n",
      "- Streamlined data collection and processing, leading to a 25% improvement in reporting efficiency.\n",
      "Education\n",
      "Master of Science in Data Science | University of XYZ | 2016 - 2018\n",
      "Bachelor of Science in Computer Science | University of ABC | 2012 - 2016\n",
      "Certifications\n",
      "- Certified Data Scientist (CDS)\n",
      "- AWS Certified Machine Learning - Specialty\n",
      "- Tableau Desktop Specialist\"\n",
      "\n",
      "\n",
      "CONCISE SUMMARY:\u001b[0m\n",
      "\n",
      "\u001b[1m> Finished chain.\u001b[0m\n",
      "\n",
      "\n",
      "\u001b[1m> Entering new LLMChain chain...\u001b[0m\n",
      "Prompt after formatting:\n",
      "\u001b[32;1m\u001b[1;3mWrite a concise summary of the following:\n",
      "\n",
      "\n",
      "\"John Doe is a data scientist with 4+ years of experience in using data to solve business problems. He's proficient in Python, SQL, and machine learning, and has a proven track record of deriving actionable insights from data. He has experience developing and deploying machine learning models that have improved prediction accuracy. \n",
      "\n",
      "\n",
      "Highly skilled Data Analyst with a Master's in Data Science, proven ability to analyze large datasets, automate ETL processes, and integrate AI solutions.  Demonstrated success in driving business outcomes through data-driven insights, including a 20% increase in marketing ROI and a 25% improvement in reporting efficiency.  Possesses strong technical skills in predictive modeling, data visualization, and cloud platforms. \n",
      "\"\n",
      "\n",
      "\n",
      "CONCISE SUMMARY:\u001b[0m\n",
      "\n",
      "\u001b[1m> Finished chain.\u001b[0m\n",
      "\n",
      "\u001b[1m> Finished chain.\u001b[0m\n"
     ]
    }
   ],
   "source": [
    "chain=load_summarize_chain(\n",
    "    llm,\n",
    "    chain_type='map_reduce',\n",
    "    verbose=True\n",
    ")\n",
    "summary=chain.run(chunks)"
   ]
  },
  {
   "cell_type": "code",
   "execution_count": 23,
   "metadata": {},
   "outputs": [
    {
     "data": {
      "text/plain": [
       "\"John Doe is a data scientist with 4+ years of experience in using data to solve business problems. He has a Master's in Data Science and is proficient in Python, SQL, and machine learning. He has a proven track record of deriving actionable insights from data, improving prediction accuracy, and driving business outcomes. His accomplishments include a 20% increase in marketing ROI and a 25% improvement in reporting efficiency. \\n\""
      ]
     },
     "execution_count": 23,
     "metadata": {},
     "output_type": "execute_result"
    }
   ],
   "source": [
    "summary\n"
   ]
  },
  {
   "cell_type": "markdown",
   "metadata": {},
   "source": [
    "##### Map reduce With Custom Prompts"
   ]
  },
  {
   "cell_type": "markdown",
   "metadata": {},
   "source": [
    "- > We converted document to chunks and gave every chunk to the LLM Model\n",
    "- > While giving we can develop our own prompt too"
   ]
  },
  {
   "cell_type": "code",
   "execution_count": 24,
   "metadata": {},
   "outputs": [],
   "source": [
    "chunks_prompt=\"\"\"\n",
    "Please summarize the below speech:\n",
    "Speech ` {text}`\n",
    "Summary:\n",
    "\"\"\"\n",
    "map_prompt_template=PromptTemplate(\n",
    "    input_variables=['text'],\n",
    "    template=chunks_prompt\n",
    ")"
   ]
  },
  {
   "cell_type": "code",
   "execution_count": 29,
   "metadata": {},
   "outputs": [],
   "source": [
    "final_combine_prompt='''\n",
    "Provide a final summary of the entire resume with these important points.\n",
    "Add a Generic Resume Title,\n",
    "Start the precise summary with an introduction and provide the\n",
    "summary in number points for the resume.\n",
    "Speech: `{text}`\n",
    "'''\n",
    "final_combine_prompt_template=PromptTemplate(input_variables=['text'],\n",
    "                                             template=final_combine_prompt)"
   ]
  },
  {
   "cell_type": "code",
   "execution_count": 30,
   "metadata": {},
   "outputs": [
    {
     "name": "stdout",
     "output_type": "stream",
     "text": [
      "\n",
      "\n",
      "\u001b[1m> Entering new MapReduceDocumentsChain chain...\u001b[0m\n",
      "\n",
      "\n",
      "\u001b[1m> Entering new LLMChain chain...\u001b[0m\n",
      "Prompt after formatting:\n",
      "\u001b[32;1m\u001b[1;3m\n",
      "Please summarize the below speech:\n",
      "Speech ` John Doe - Data Scientist\n",
      "Contact Information\n",
      "Email: johndoe@example.com | Phone: +123-456-7890 | Location: New York, NY\n",
      "Professional Summary\n",
      "Data Scientist with 4+ years of experience in leveraging data-driven approaches to solve complex\n",
      "business problems. Proficient in statistical analysis, predictive modeling, and machine learning.\n",
      "Strong expertise in Python, SQL, and data visualization with a proven track record of deriving\n",
      "actionable insights from large datasets.\n",
      "Skills\n",
      "- Programming: Python, R, SQL\n",
      "- Machine Learning: Scikit-learn, TensorFlow, Keras\n",
      "- Data Analysis: Pandas, NumPy, SciPy\n",
      "- Data Visualization: Matplotlib, Seaborn, Tableau\n",
      "- Big Data: Hadoop, Spark\n",
      "- Cloud Platforms: AWS, Azure\n",
      "- Version Control: Git\n",
      "Work Experience\n",
      "Data Scientist | XYZ Tech Solutions, New York, NY | Jan 2021 - Present\n",
      "- Developed and deployed machine learning models that increased prediction accuracy by 15%.`\n",
      "Summary:\n",
      "\u001b[0m\n",
      "Prompt after formatting:\n",
      "\u001b[32;1m\u001b[1;3m\n",
      "Please summarize the below speech:\n",
      "Speech ` - Conducted exploratory data analysis on large datasets to identify trends and business insights.\n",
      "- Automated ETL processes, reducing data processing time by 30%.\n",
      "- Collaborated with cross-functional teams to integrate AI-driven solutions into existing platforms.\n",
      "Data Analyst | ABC Data Corp, Boston, MA | June 2018 - Dec 2020- Analyzed and visualized customer behavior data to drive marketing strategy, resulting in a 20%\n",
      "increase in ROI.\n",
      "- Built predictive models for customer segmentation and retention.\n",
      "- Streamlined data collection and processing, leading to a 25% improvement in reporting efficiency.\n",
      "Education\n",
      "Master of Science in Data Science | University of XYZ | 2016 - 2018\n",
      "Bachelor of Science in Computer Science | University of ABC | 2012 - 2016\n",
      "Certifications\n",
      "- Certified Data Scientist (CDS)\n",
      "- AWS Certified Machine Learning - Specialty\n",
      "- Tableau Desktop Specialist`\n",
      "Summary:\n",
      "\u001b[0m\n",
      "\n",
      "\u001b[1m> Finished chain.\u001b[0m\n",
      "\n",
      "\n",
      "\u001b[1m> Entering new LLMChain chain...\u001b[0m\n",
      "Prompt after formatting:\n",
      "\u001b[32;1m\u001b[1;3m\n",
      "Provide a final summary of the entire resume with these important points.\n",
      "Add a Generic Resume Title,\n",
      "Start the precise summary with an introduction and provide the\n",
      "summary in number points for the resume.\n",
      "Speech: `John Doe is a data scientist with over 4 years of experience using data to solve business problems. He is skilled in Python, SQL, and data visualization, and has a proven track record of extracting actionable insights from large datasets. He has expertise in machine learning, data analysis, and big data technologies. In his current role at XYZ Tech Solutions, he developed and deployed machine learning models that improved prediction accuracy by 15%. \n",
      "\n",
      "\n",
      "This speech highlights the speaker's experience as a data analyst, showcasing their skills in data analysis, automation, AI integration, and data visualization. They have a proven track record of using data to drive business outcomes, including increasing ROI by 20% and improving reporting efficiency by 25%. Their expertise is further demonstrated through their advanced education in data science and computer science, as well as their relevant certifications. \n",
      "`\n",
      "\u001b[0m\n",
      "\n",
      "\u001b[1m> Finished chain.\u001b[0m\n",
      "\n",
      "\u001b[1m> Finished chain.\u001b[0m\n"
     ]
    }
   ],
   "source": [
    "summary_chain = load_summarize_chain(\n",
    "    llm=llm,\n",
    "    chain_type='map_reduce',\n",
    "    map_prompt=map_prompt_template,\n",
    "    combine_prompt=final_combine_prompt_template,\n",
    "    verbose=True\n",
    ")\n",
    "output = summary_chain.run(chunks)"
   ]
  },
  {
   "cell_type": "code",
   "execution_count": 31,
   "metadata": {},
   "outputs": [
    {
     "data": {
      "text/plain": [
       "'## Data Scientist Resume\\n\\n**Summary:**\\n\\nA highly motivated and results-oriented Data Scientist with over 4 years of experience leveraging data to solve complex business challenges. Proven ability to extract actionable insights from large datasets, develop and deploy machine learning models, and drive impactful business outcomes. Expertise in:\\n\\n* **Data Analysis & Machine Learning:** Skilled in Python, SQL, and data visualization techniques. Developed and deployed machine learning models that improved prediction accuracy by 15%.\\n* **Data Automation & AI Integration:** Experience in automating data processes and integrating AI solutions to enhance efficiency and accuracy.\\n* **Data Visualization & Reporting:** Proficient in creating compelling data visualizations and reports to communicate insights effectively to stakeholders.\\n* **Business Impact:** Demonstrated success in driving business outcomes, including increasing ROI by 20% and improving reporting efficiency by 25%.\\n* **Continuous Learning:** Committed to staying abreast of the latest advancements in data science and technology through advanced education and relevant certifications. \\n'"
      ]
     },
     "execution_count": 31,
     "metadata": {},
     "output_type": "execute_result"
    }
   ],
   "source": [
    "output"
   ]
  },
  {
   "cell_type": "markdown",
   "metadata": {},
   "source": [
    "- > Refine chain for summarization\n",
    "- > Firstly give chunk1 uski summary get then u give chunk1, chunk2 , then cbunk 1 2 3 and so on"
   ]
  },
  {
   "cell_type": "code",
   "execution_count": 32,
   "metadata": {},
   "outputs": [
    {
     "name": "stdout",
     "output_type": "stream",
     "text": [
      "\n",
      "\n",
      "\u001b[1m> Entering new RefineDocumentsChain chain...\u001b[0m\n",
      "\n",
      "\n",
      "\u001b[1m> Entering new LLMChain chain...\u001b[0m\n",
      "Prompt after formatting:\n",
      "\u001b[32;1m\u001b[1;3mWrite a concise summary of the following:\n",
      "\n",
      "\n",
      "\"John Doe - Data Scientist\n",
      "Contact Information\n",
      "Email: johndoe@example.com | Phone: +123-456-7890 | Location: New York, NY\n",
      "Professional Summary\n",
      "Data Scientist with 4+ years of experience in leveraging data-driven approaches to solve complex\n",
      "business problems. Proficient in statistical analysis, predictive modeling, and machine learning.\n",
      "Strong expertise in Python, SQL, and data visualization with a proven track record of deriving\n",
      "actionable insights from large datasets.\n",
      "Skills\n",
      "- Programming: Python, R, SQL\n",
      "- Machine Learning: Scikit-learn, TensorFlow, Keras\n",
      "- Data Analysis: Pandas, NumPy, SciPy\n",
      "- Data Visualization: Matplotlib, Seaborn, Tableau\n",
      "- Big Data: Hadoop, Spark\n",
      "- Cloud Platforms: AWS, Azure\n",
      "- Version Control: Git\n",
      "Work Experience\n",
      "Data Scientist | XYZ Tech Solutions, New York, NY | Jan 2021 - Present\n",
      "- Developed and deployed machine learning models that increased prediction accuracy by 15%.\"\n",
      "\n",
      "\n",
      "CONCISE SUMMARY:\u001b[0m\n",
      "\n",
      "\u001b[1m> Finished chain.\u001b[0m\n",
      "\n",
      "\n",
      "\u001b[1m> Entering new LLMChain chain...\u001b[0m\n",
      "Prompt after formatting:\n",
      "\u001b[32;1m\u001b[1;3mYour job is to produce a final summary.\n",
      "We have provided an existing summary up to a certain point: John Doe is a data scientist with 4+ years of experience in using data to solve business problems. He is proficient in Python, SQL, and data visualization, and has a proven track record of deriving actionable insights from large datasets. He has experience with machine learning, big data, and cloud platforms, and has successfully developed and deployed models that improved prediction accuracy. \n",
      "\n",
      "We have the opportunity to refine the existing summary (only if needed) with some more context below.\n",
      "------------\n",
      "- Conducted exploratory data analysis on large datasets to identify trends and business insights.\n",
      "- Automated ETL processes, reducing data processing time by 30%.\n",
      "- Collaborated with cross-functional teams to integrate AI-driven solutions into existing platforms.\n",
      "Data Analyst | ABC Data Corp, Boston, MA | June 2018 - Dec 2020- Analyzed and visualized customer behavior data to drive marketing strategy, resulting in a 20%\n",
      "increase in ROI.\n",
      "- Built predictive models for customer segmentation and retention.\n",
      "- Streamlined data collection and processing, leading to a 25% improvement in reporting efficiency.\n",
      "Education\n",
      "Master of Science in Data Science | University of XYZ | 2016 - 2018\n",
      "Bachelor of Science in Computer Science | University of ABC | 2012 - 2016\n",
      "Certifications\n",
      "- Certified Data Scientist (CDS)\n",
      "- AWS Certified Machine Learning - Specialty\n",
      "- Tableau Desktop Specialist\n",
      "------------\n",
      "Given the new context, refine the original summary.\n",
      "If the context isn't useful, return the original summary.\u001b[0m\n",
      "\n",
      "\u001b[1m> Finished chain.\u001b[0m\n",
      "\n",
      "\u001b[1m> Finished chain.\u001b[0m\n"
     ]
    }
   ],
   "source": [
    "chain=load_summarize_chain(\n",
    "    llm=llm,\n",
    "    chain_type='refine',\n",
    "    verbose=True\n",
    ")\n",
    "output_chain=chain.run(chunks)"
   ]
  },
  {
   "cell_type": "code",
   "execution_count": 33,
   "metadata": {},
   "outputs": [
    {
     "data": {
      "text/plain": [
       "'John Doe is a data scientist with 4+ years of experience in using data to solve business problems. He is proficient in Python, SQL, and data visualization, and has a proven track record of deriving actionable insights from large datasets. He has experience with machine learning, big data, and cloud platforms, and has successfully developed and deployed models that improved prediction accuracy. \\n\\nJohn has a strong track record of success in analyzing and visualizing data to drive business decisions. He has conducted exploratory data analysis to identify trends and insights, automated ETL processes to improve efficiency, and collaborated with cross-functional teams to integrate AI-driven solutions. His work at ABC Data Corp resulted in a 20% increase in ROI through improved marketing strategy and a 25% improvement in reporting efficiency through streamlined data collection and processing. \\n\\nJohn holds a Master of Science in Data Science from the University of XYZ and a Bachelor of Science in Computer Science from the University of ABC. He is also a Certified Data Scientist (CDS), AWS Certified Machine Learning - Specialty, and Tableau Desktop Specialist. \\n'"
      ]
     },
     "execution_count": 33,
     "metadata": {},
     "output_type": "execute_result"
    }
   ],
   "source": [
    "output_chain"
   ]
  }
 ],
 "metadata": {
  "kernelspec": {
   "display_name": "Python 3",
   "language": "python",
   "name": "python3"
  },
  "language_info": {
   "codemirror_mode": {
    "name": "ipython",
    "version": 3
   },
   "file_extension": ".py",
   "mimetype": "text/x-python",
   "name": "python",
   "nbconvert_exporter": "python",
   "pygments_lexer": "ipython3",
   "version": "3.11.5"
  }
 },
 "nbformat": 4,
 "nbformat_minor": 2
}
